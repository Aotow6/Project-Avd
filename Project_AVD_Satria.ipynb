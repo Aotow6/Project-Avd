{
  "nbformat": 4,
  "nbformat_minor": 0,
  "metadata": {
    "colab": {
      "provenance": []
    },
    "kernelspec": {
      "name": "python3",
      "display_name": "Python 3"
    },
    "language_info": {
      "name": "python"
    }
  },
  "cells": [
    {
      "cell_type": "markdown",
      "source": [
        "\n",
        "**Analitik dan Visualisasi Data**\n",
        "\n",
        "Nama : Satria Rajwali Ektya Antara\n",
        "\n",
        "NIM : 2409116067\n",
        "\n",
        "Kelas : B 24\n",
        "\n",
        "Dataset : Pima Indians Diabetes Database\n",
        "\n",
        "Studi Kasus:\n",
        "Memprediksi risiko diabetes pada pasien berdasarkan fitur-fitur kesehatan.\n",
        "\n",
        "*   Memprediksi risiko diabetes pada pasien berdasarkan fitur-fitur kesehatan.\n",
        "\n",
        "*   Memberikan wawasan tentang faktor-faktor yang paling berpengaruh terhadap diabetes.\n",
        "\n",
        "---\n",
        "\n"
      ],
      "metadata": {
        "id": "wbr6zHOlwlOn"
      }
    },
    {
      "cell_type": "markdown",
      "source": [
        "#**Business Understanding**"
      ],
      "metadata": {
        "id": "MKVnC8NWs_Wo"
      }
    },
    {
      "cell_type": "markdown",
      "source": [
        "## **Business Objective**"
      ],
      "metadata": {
        "id": "2nEUx2YqtD2f"
      }
    },
    {
      "cell_type": "markdown",
      "source": [
        "Tujuan dilakukannya proyek ini adalah untuk menganalisis faktor-faktor yang berkontribusi terhadap diabetes dan memprediksi kemungkinan seseorang menderita diabetes berdasarkan fitur-fitur kesehatan seperti kadar glukosa, indeks massa tubuh (BMI), usia, dan riwayat keluarga. Proyek ini bertujuan untuk membantu tenaga medis dalam mengidentifikasi pasien yang berisiko tinggi terkena diabetes, sehingga dapat memberikan intervensi dini dan perawatan yang lebih efektif. Selain itu, hasil analisis ini dapat digunakan oleh institusi kesehatan untuk merancang program pencegahan diabetes yang lebih terarah."
      ],
      "metadata": {
        "id": "0496ADc3wmXv"
      }
    },
    {
      "cell_type": "markdown",
      "source": [
        "## **Business Objective**"
      ],
      "metadata": {
        "id": "tIRVgCuzwLB3"
      }
    },
    {
      "cell_type": "markdown",
      "source": [
        "Situasi bisnis yang mendasari analisis ini adalah meningkatnya prevalensi diabetes di seluruh dunia, terutama diabetes tipe 2, yang dapat dicegah dengan deteksi dini dan perubahan gaya hidup. Dengan memanfaatkan data kesehatan pasien, proyek ini bertujuan untuk memberikan wawasan yang dapat membantu mengurangi beban kesehatan dan biaya perawatan yang terkait dengan diabetes. Analisis ini juga dapat membantu perusahaan asuransi kesehatan dalam menilai risiko dan merancang produk asuransi yang lebih sesuai."
      ],
      "metadata": {
        "id": "SGHtMXPlwyeH"
      }
    },
    {
      "cell_type": "markdown",
      "source": [
        "## **Goals**"
      ],
      "metadata": {
        "id": "54ze3IQfwW5H"
      }
    },
    {
      "cell_type": "markdown",
      "source": [
        "menganalisis faktor-faktor kesehatan seperti kadar glukosa, BMI, dan usia yang berkontribusi terhadap risiko diabetes. Selain itu, proyek ini bertujuan untuk membangun sebuah sistem prediksi yang dapat mengidentifikasi pasien yang berisiko tinggi terkena diabetes. Hasil analisis ini diharapkan dapat memberikan wawasan yang berguna bagi tenaga medis dalam merancang strategi pencegahan dan penanganan diabetes yang lebih efektif."
      ],
      "metadata": {
        "id": "V08jl6jmwZzv"
      }
    },
    {
      "cell_type": "markdown",
      "source": [
        "## **Project Plan**"
      ],
      "metadata": {
        "id": "TtGVkYczwaNX"
      }
    },
    {
      "cell_type": "markdown",
      "source": [
        "Proyek ini akan dimulai dengan mengumpulkan dan memahami dataset Pima Indians Diabetes Database. Data akan dibersihkan untuk memastikan kualitasnya, seperti menangani data yang hilang dan menyesuaikan skala data agar lebih mudah dianalisis. Selanjutnya, analisis eksplorasi akan dilakukan untuk memahami hubungan antara faktor-faktor kesehatan (seperti kadar glukosa, BMI, dan usia) dengan risiko diabetes. Visualisasi data akan digunakan untuk menjelaskan pola dan tren yang ditemukan. Setelah itu, sebuah model prediksi akan dibangun untuk mengidentifikasi pasien yang berisiko diabetes. Model ini akan diuji untuk memastikan keakuratannya dalam memprediksi risiko diabetes. Hasil akhir dari proyek ini akan disajikan dalam bentuk laporan dan visualisasi yang mudah dipahami, serta rekomendasi untuk tenaga medis dalam upaya pencegahan diabetes.\n"
      ],
      "metadata": {
        "id": "pTvdcj0pwb_v"
      }
    }
  ]
}